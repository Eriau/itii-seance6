{
  "nbformat": 4,
  "nbformat_minor": 0,
  "metadata": {
    "kernelspec": {
      "display_name": "Python 3",
      "language": "python",
      "name": "python3"
    },
    "language_info": {
      "codemirror_mode": {
        "name": "ipython",
        "version": 3
      },
      "file_extension": ".py",
      "mimetype": "text/x-python",
      "name": "python",
      "nbconvert_exporter": "python",
      "pygments_lexer": "ipython3",
      "version": "3.7.6"
    },
    "colab": {
      "name": "Copie de seance6.ipynb",
      "provenance": [],
      "collapsed_sections": [],
      "include_colab_link": true
    }
  },
  "cells": [
    {
      "cell_type": "markdown",
      "metadata": {
        "id": "view-in-github",
        "colab_type": "text"
      },
      "source": [
        "<a href=\"https://colab.research.google.com/github/Eriau/itii-seance6/blob/main/seance6_fini.ipynb\" target=\"_parent\"><img src=\"https://colab.research.google.com/assets/colab-badge.svg\" alt=\"Open In Colab\"/></a>"
      ]
    },
    {
      "cell_type": "markdown",
      "metadata": {
        "id": "h4b0fCLe3BBA"
      },
      "source": [
        "Ex 1 : La m ́ethode des rectangles\n",
        "On cherche à calculer une intégrale en utilisant la méthode des rectangles.\n",
        "![1.png](attachment:1.png)\n",
        "\n",
        "L’intervalle de l’intégrale est noté [a,b] et la fonction à intégrer f. On divise cet intervalle en n petits segments et on fait la somme des aires des petits rectangles délimités par l’axe des abscisses et la courbe de la fonction f.\n",
        "\n",
        "![2.png](attachment:2.png)\n",
        "\n",
        "1. Ecrire la fontion integrale(f,a,b,n) \n",
        "2. Quelle valeur de n faut-il choisir pour être précis à 10^{-4} près ? Ecrire la fonction qui permette de calculer cette valeur.\n",
        "3. Tester avec la fonction $f(x)=3x^3+2x-1$ sur l'interval [0,10] avec un pas de 0.001\n",
        "4. Tester avec la fonction $g(x)=cos(\\frac {1}{x})$ sur l'interval [-1;1] privé de 0"
      ]
    },
    {
      "cell_type": "code",
      "metadata": {
        "id": "Q1t9NXPG3BBA",
        "colab": {
          "base_uri": "https://localhost:8080/"
        },
        "outputId": "8861c842-32b4-4f12-d56a-529aa2133b87"
      },
      "source": [
        "#Exercice 1\n",
        "\n",
        "import numpy as np\n",
        "import math\n",
        "\n",
        "#1\n",
        "\n",
        "def integrale(f, a, b, n): # Le pas c'est (b-a)/n donc trouver le bon n\n",
        "  integrale = 0\n",
        "  h = float(b-a)/n\n",
        "  k=a\n",
        "  for i in range(0, n+1):\n",
        "    integrale += f(k)*h\n",
        "    k += h\n",
        "  return integrale\n",
        "\n",
        "#2\n",
        "\n",
        "def integrale_precise(f, a, b, n_prec, prec):\n",
        "  val = integrale(f, a, b, n_prec)\n",
        "  val_new = None\n",
        "  while val_new is None or abs(val-val_new)/val_new>prec: # On regarde si la diff entre les deux valeurs est supérieure à la précision voulue ou non\n",
        "    val_new = val\n",
        "    n_prec += 1\n",
        "    val = integrale(f, a, b, n_prec)\n",
        "  return val, n_prec\n",
        "\n",
        "#3\n",
        "\n",
        "def f(x):\n",
        "  return 3*pow(x, 3) + 2*x - 1\n",
        "\n",
        "print(integrale(f, 0, 10, 100000))\n",
        "[inte, n] = integrale_precise(f, 0, 10, 10, 1e-4)\n",
        "print(inte, n) # (b-a)/n donne le pas\n",
        "\n",
        "#4\n",
        "\n",
        "def g(x):\n",
        "  if x != 0 :\n",
        "    return math.cos(1/x)\n",
        "  else :\n",
        "    return -1\n",
        "\n",
        "print(integrale(g, -1, 1, 100))\n"
      ],
      "execution_count": 45,
      "outputs": [
        {
          "output_type": "stream",
          "text": [
            "7590.150900736775\n",
            "7696.639555643766 142\n",
            "-0.09606015678304876\n"
          ],
          "name": "stdout"
        }
      ]
    },
    {
      "cell_type": "markdown",
      "metadata": {
        "id": "flp1dB9h3BBA"
      },
      "source": [
        "Ex2: Méthode des trapèzes\n",
        "Le calcul numérique d’une intégrale par la méthode des trapèzes consiste à calculer une valeur approchée de l’intégrale $\\int_{a}^{b}f(x)dx$ en utilisant une interpolation linéaire de f par intervalles. Sur un intervalle [a,b], la valeur de l’intégrale peut être approchée par la surface du trapèzepassant par les points[a,0],[a,f(a)],[b,f(b)],[b,0]:\n",
        "$$\\int_{a}^{b}f(x)dx \\approx (b-a) \\left [ \\frac{f(a)+f(b)}{2} \\right ]$$\n",
        "\n",
        "Pour calculer une meilleur approximation de cette intégrale, on découpe l’intervalle [a,b] en n intervalles plus petits, de taille $\\frac{b-a}{n}$, et on calcule la somme des aires (signées) des trapèzes :\n",
        "$$\n",
        "\\int_{a}^{b}f(x)dx \\approx \\frac{(b-a)}{2n} \\sum_{k=i}^{n} \\left [ f(a+(k-i)\\frac{b-a}{n})+f(a+k\\frac{b-a}{n}) \\right ]$$\n",
        "\n",
        "1. Écrivez tous les termes de la somme ci-dessus pourn= 3, et observez qu’il estpossible de faire le calcul avec exactement n+ 1 = 4appels à la fonction f\n",
        "2. Écrire une fonction pythonintegrale_trapezes(a, b, n) qui calcule l’intégrale de la fonction f(x) de a à b avec n intervalles, en faisant au plus n+ 1 appels à la fonction f.\n",
        "3. Pour $f(x) =xsin(x2)$, calculez l’erreur numérique de son intégrale sur l’intervalle [0,√π], pour 2 à 30 intervalles."
      ]
    },
    {
      "cell_type": "code",
      "metadata": {
        "colab": {
          "base_uri": "https://localhost:8080/"
        },
        "id": "O0iNdazgE498",
        "outputId": "2d7d2834-df0d-4889-f49b-cce8c389d4b5"
      },
      "source": [
        "#Exercice 2\n",
        "\n",
        "import numpy as np\n",
        "import math\n",
        "\n",
        "def trapezes(f, a, b, n):\n",
        "     res = (b-a)/(2*n)\n",
        "     sum = 0\n",
        "     i = 1\n",
        "     for k in range(i, n):\n",
        "       sum += f(a+(k-i)*(b-a)/n) + f(a+k*(b-a)/n)\n",
        "     return res*sum\n",
        "    \n",
        "trapezes(lambda x: x*math.sin(x**2), 0, math.sqrt(math.pi), 30)"
      ],
      "execution_count": 47,
      "outputs": [
        {
          "output_type": "execute_result",
          "data": {
            "text/plain": [
              "0.9878206872649367"
            ]
          },
          "metadata": {
            "tags": []
          },
          "execution_count": 47
        }
      ]
    },
    {
      "cell_type": "code",
      "metadata": {
        "id": "0KbThM5HHLzn"
      },
      "source": [
        ""
      ],
      "execution_count": null,
      "outputs": []
    }
  ]
}